{
 "cells": [
  {
   "cell_type": "code",
   "execution_count": 1,
   "metadata": {},
   "outputs": [
    {
     "name": "stdout",
     "output_type": "stream",
     "text": [
      "Enter number of elements : 6\n",
      "1\n",
      "2\n",
      "3\n",
      "4\n",
      "5\n",
      "6\n",
      "7\n",
      "[1, 2, 3, 4, 5, 6, 7]\n",
      "1 2 5 4 6 5\n"
     ]
    }
   ],
   "source": [
    "lst = [] # empty list \n",
    "  \n",
    "# number of elements as input \n",
    "n = int(input(\"Enter number of elements : \")) \n",
    "  \n",
    "# iterating till the range \n",
    "for i in range(0, n+1): \n",
    "    ele = int(input()) \n",
    "  \n",
    "    lst.append(ele) # adding the element \n",
    "print(lst)\n",
    "lst[2]=lst[4]\n",
    "lst[n]=lst[4]\n",
    "lst.pop(4) # deleting lst[4]\n",
    "print(*lst) # & add it at lst[2], end of list"
   ]
  },
  {
   "cell_type": "code",
   "execution_count": 22,
   "metadata": {},
   "outputs": [
    {
     "name": "stdout",
     "output_type": "stream",
     "text": [
      "Enter number of elements : 5\n",
      "1\n",
      "2\n",
      "3\n",
      "4\n",
      "5\n",
      "6\n",
      "[1, 2, 3, 4, 5, 6]\n",
      "Enter number of elements : 5\n",
      "1\n",
      "2\n",
      "3\n",
      "4\n",
      "5\n",
      "6\n",
      "[1, 2, 3, 4, 5, 6]\n",
      "{(3, 3), (5, 5), (6, 6), (4, 4), (2, 2), (1, 1)}\n"
     ]
    }
   ],
   "source": [
    "n=[]\n",
    "# number of elements as input \n",
    "a = int(input(\"Enter number of elements : \")) \n",
    "  \n",
    "# iterating till the range \n",
    "for i in range(0, a+1): \n",
    "    ele = int(input()) \n",
    "  \n",
    "    n.append(ele) # adding the element \n",
    "print(n)\n",
    "m=[]\n",
    "# number of elements as input \n",
    "b = int(input(\"Enter number of elements : \")) \n",
    "  \n",
    "# iterating till the range \n",
    "for i in range(0, b+1): \n",
    "    ele = int(input()) \n",
    "  \n",
    "    m.append(ele) # adding the element \n",
    "print(m)\n",
    "merged_list=set(zip(n,m)) # combining the elements and converting them into set\n",
    "print(merged_list)"
   ]
  },
  {
   "cell_type": "code",
   "execution_count": 2,
   "metadata": {},
   "outputs": [
    {
     "name": "stdout",
     "output_type": "stream",
     "text": [
      "Enter number of elements : 6\n",
      "1\n",
      "2\n",
      "2\n",
      "3\n",
      "4\n",
      "4\n",
      "5\n",
      "[1, 2, 2, 3, 4, 4, 5]\n",
      "{1, 2, 3, 4, 5}\n",
      "(1, 2, 3, 4, 5)\n",
      "1\n",
      "5\n"
     ]
    }
   ],
   "source": [
    "lst = [] # empty list\n",
    "  \n",
    "# number of elements as input \n",
    "n = int(input(\"Enter number of elements : \")) \n",
    "  \n",
    "# iterating till the range \n",
    "for i in range(0, n+1): \n",
    "    ele = int(input()) \n",
    "  \n",
    "    lst.append(ele) # adding the element \n",
    "print(lst)\n",
    "print(set(lst))  #removing the duplicates\n",
    "c=(tuple(set(lst)))  #converting into tuple\n",
    "print(c)\n",
    "print(min(c)) # minimum element\n",
    "print(max(c)) # maximum element"
   ]
  },
  {
   "cell_type": "code",
   "execution_count": 3,
   "metadata": {},
   "outputs": [
    {
     "name": "stdout",
     "output_type": "stream",
     "text": [
      "1 0 0 0 "
     ]
    }
   ],
   "source": [
    "def decimalToBinary(n):  \n",
    "  \n",
    "    if(n > 1):  \n",
    "        # divide with integral result  \n",
    "        # (discard remainder)  \n",
    "        decimalToBinary(n//2)  \n",
    "  \n",
    "      \n",
    "    print(n%2,end=\" \")\n",
    "decimalToBinary(8)"
   ]
  },
  {
   "cell_type": "code",
   "execution_count": 5,
   "metadata": {},
   "outputs": [
    {
     "name": "stdout",
     "output_type": "stream",
     "text": [
      "perfect numbers between 1 and 101 are: 6\n",
      "perfect numbers between 1 and 101 are: 28\n"
     ]
    }
   ],
   "source": [
    "def perfect_no(n):\n",
    "    sum_n=0\n",
    "    for i in range(1,n):\n",
    "        if n%i==0: # to check the proper divisor of the integer\n",
    "            sum_n+=i\n",
    "    return sum_n==n # condition:sum of the proper divisors is equal to no\n",
    "for first_no in range(1,101):\n",
    "    if perfect_no(first_no):\n",
    "        print(\"perfect numbers between 1 and 101 are: %d\"%(first_no))"
   ]
  },
  {
   "cell_type": "code",
   "execution_count": 13,
   "metadata": {},
   "outputs": [
    {
     "name": "stdout",
     "output_type": "stream",
     "text": [
      "Amicable numbers: 6 \n",
      "\n",
      "Amicable numbers: 28 \n",
      "\n",
      "Amicable numbers: 220 \n",
      "\n",
      "Amicable numbers: 284 \n",
      "\n",
      "Amicable numbers: 496 \n",
      "\n"
     ]
    }
   ],
   "source": [
    "def amicable_nos(x,y):\n",
    "    sum_x=0\n",
    "    sum_y=0\n",
    "    for i in range(1,x):\n",
    "        if x%i==0:\n",
    "            sum_x+=i #sum of proper divisiors of x\n",
    " \n",
    "    for k in range(1,y):\n",
    "        if y%k==0:\n",
    "            sum_y+=k #sum of proper divisiors of y\n",
    " \n",
    "    return sum_x==y and sum_y==x # condition:if the sum of the proper divisors of each is equal to the other number\n",
    "\n",
    "for first_no in range(1, 500):\n",
    "    for second_no in range(1, 500):\n",
    "        if amicable_nos(first_no, second_no):\n",
    "            print (\"Amicable numbers: %d \\n\" % (first_no))"
   ]
  },
  {
   "cell_type": "code",
   "execution_count": 15,
   "metadata": {},
   "outputs": [
    {
     "name": "stdout",
     "output_type": "stream",
     "text": [
      "6\n",
      "{0: 0, 1: 1, 2: 4, 3: 9, 4: 16, 5: 25}\n"
     ]
    }
   ],
   "source": [
    "n=int(input())#no of elements to be displayed\n",
    "d=dict()# empty dict\n",
    "for i in range(n): #to iterate till the range n\n",
    "    d[i]=i**2\n",
    "print(d)"
   ]
  },
  {
   "cell_type": "code",
   "execution_count": 18,
   "metadata": {},
   "outputs": [
    {
     "name": "stdout",
     "output_type": "stream",
     "text": [
      "Input a number 4\n",
      "{1: 1, 2: 2, 3: 3, 4: 4}\n",
      "Input a number 5\n",
      "{1: 1, 2: 2, 3: 3, 4: 4, 5: 5}\n",
      "{1: 2, 2: 4, 3: 6, 4: 8, 5: 5}\n"
     ]
    }
   ],
   "source": [
    "n=int(input(\"Input a number \"))\n",
    "d = dict()\n",
    "\n",
    "for x in range(1,n+1):\n",
    "    d[x]=x\n",
    "\n",
    "print(d) # first dictionary\n",
    "m=int(input(\"Input a number \"))\n",
    "d1 = dict()\n",
    "\n",
    "for x in range(1,m+1):\n",
    "    d1[x]=x\n",
    "print(d1)# second dictionary\n",
    "\n",
    "for key in d1: \n",
    "    if key in d: \n",
    "        d1[key] = d1[key] + d[key] # logic to add similar key elements \n",
    "    else: \n",
    "        pass\n",
    "          \n",
    "print(d1)"
   ]
  },
  {
   "cell_type": "code",
   "execution_count": null,
   "metadata": {},
   "outputs": [],
   "source": []
  }
 ],
 "metadata": {
  "kernelspec": {
   "display_name": "Python 3",
   "language": "python",
   "name": "python3"
  },
  "language_info": {
   "codemirror_mode": {
    "name": "ipython",
    "version": 3
   },
   "file_extension": ".py",
   "mimetype": "text/x-python",
   "name": "python",
   "nbconvert_exporter": "python",
   "pygments_lexer": "ipython3",
   "version": "3.6.5"
  }
 },
 "nbformat": 4,
 "nbformat_minor": 2
}
